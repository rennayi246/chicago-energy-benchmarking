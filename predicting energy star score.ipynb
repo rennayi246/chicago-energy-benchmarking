{
 "cells": [
  {
   "cell_type": "code",
   "execution_count": 1,
   "metadata": {},
   "outputs": [],
   "source": [
    "import pandas as pd\n",
    "import math\n",
    "import matplotlib.pyplot as plt\n",
    "import numpy as np\n",
    "from scipy import stats\n",
    "from sklearn.tree import DecisionTreeRegressor,export_graphviz\n",
    "import sklearn.model_selection as sk\n",
    "from sklearn.ensemble import RandomForestRegressor\n",
    "import pydotplus\n",
    "\n",
    "'''Here we assess two machine learning algorithms to predict the energy star score. \n",
    "    The energy star score is a number between 1 and 100 and indicates your building's performance\n",
    "    relative to other buildings of the same property type. \n",
    "\n",
    "\n",
    "\n",
    "\n",
    "    First, we load the datasets.'''\n",
    "\n",
    "\n",
    "\n",
    "df=pd.read_csv(\"Chicago_Energy_Benchmarking_-_2014_Data_Reported_in_2015.csv\")\n",
    "\n",
    "gf=pd.read_csv(\"Chicago_Energy_Benchmarking_-_2015_Data_Reported_in_2016.csv\")\n",
    "hf=pd.read_csv(\"Chicago_Energy_Benchmarking_-_2016_Data_Reported_in_2017.csv\")\n"
   ]
  },
  {
   "cell_type": "code",
   "execution_count": 2,
   "metadata": {},
   "outputs": [
    {
     "name": "stdout",
     "output_type": "stream",
     "text": [
      "Data Year                                       int64\n",
      "ID                                              int64\n",
      "Property Name                                  object\n",
      "Address                                        object\n",
      "ZIP Code                                       object\n",
      "Community Area                                 object\n",
      "Primary Property Type                          object\n",
      "Gross Floor Area - Buildings (sq ft)          float64\n",
      "Year Built                                    float64\n",
      "# of Buildings                                  int64\n",
      "ENERGY STAR Score                             float64\n",
      "Electricity Use (kBtu)                        float64\n",
      "Natural Gas Use (kBtu)                        float64\n",
      "District Steam Use (kBtu)                     float64\n",
      "District Chilled Water Use (kBtu)             float64\n",
      "All Other Fuel Use (kBtu)                     float64\n",
      "Site EUI (kBtu/sq ft)                         float64\n",
      "Source EUI (kBtu/sq ft)                       float64\n",
      "Weather Normalized Site EUI (kBtu/sq ft)      float64\n",
      "Weather Normalized Source EUI (kBtu/sq ft)    float64\n",
      "Total GHG Emissions (Metric Tons CO2e)        float64\n",
      "GHG Intensity (kg CO2e/sq ft)                 float64\n",
      "Latitude                                      float64\n",
      "Longitude                                     float64\n",
      "Location                                       object\n",
      "dtype: object\n"
     ]
    }
   ],
   "source": [
    "'''We can combine everything since the energy star score is computed the same way across all samples. For this analysis we \n",
    "    will consider office buildings'''\n",
    "allf=[df,gf,hf]\n",
    "allf=pd.concat(allf)\n",
    "offices=allf.loc[allf['Primary Property Type']==\"Office\"]\n",
    "print(offices.dtypes)\n",
    "\n",
    "\n",
    "\n",
    "\n",
    "\n",
    "\n"
   ]
  },
  {
   "cell_type": "code",
   "execution_count": 3,
   "metadata": {},
   "outputs": [
    {
     "name": "stdout",
     "output_type": "stream",
     "text": [
      "Data Year                                     732\n",
      "ID                                            732\n",
      "Property Name                                 732\n",
      "Address                                       732\n",
      "ZIP Code                                      732\n",
      "Community Area                                732\n",
      "Primary Property Type                         732\n",
      "Gross Floor Area - Buildings (sq ft)          732\n",
      "Year Built                                    732\n",
      "# of Buildings                                732\n",
      "ENERGY STAR Score                             732\n",
      "Electricity Use (kBtu)                        732\n",
      "Natural Gas Use (kBtu)                        518\n",
      "District Steam Use (kBtu)                      16\n",
      "District Chilled Water Use (kBtu)              80\n",
      "All Other Fuel Use (kBtu)                      36\n",
      "Site EUI (kBtu/sq ft)                         732\n",
      "Source EUI (kBtu/sq ft)                       732\n",
      "Weather Normalized Site EUI (kBtu/sq ft)      732\n",
      "Weather Normalized Source EUI (kBtu/sq ft)    732\n",
      "Total GHG Emissions (Metric Tons CO2e)        732\n",
      "GHG Intensity (kg CO2e/sq ft)                 732\n",
      "Latitude                                      732\n",
      "Longitude                                     732\n",
      "Location                                      732\n",
      "dtype: int64\n"
     ]
    },
    {
     "name": "stderr",
     "output_type": "stream",
     "text": [
      "C:\\Users\\renna\\Anaconda2\\envs\\py37\\lib\\site-packages\\ipykernel_launcher.py:3: SettingWithCopyWarning: \n",
      "A value is trying to be set on a copy of a slice from a DataFrame.\n",
      "Try using .loc[row_indexer,col_indexer] = value instead\n",
      "\n",
      "See the caveats in the documentation: http://pandas.pydata.org/pandas-docs/stable/indexing.html#indexing-view-versus-copy\n",
      "  This is separate from the ipykernel package so we can avoid doing imports until\n"
     ]
    },
    {
     "data": {
      "text/plain": [
       "array([[<matplotlib.axes._subplots.AxesSubplot object at 0x000001DB1CA0F978>,\n",
       "        <matplotlib.axes._subplots.AxesSubplot object at 0x000001DB1C8AA2B0>,\n",
       "        <matplotlib.axes._subplots.AxesSubplot object at 0x000001DB1C8D2828>,\n",
       "        <matplotlib.axes._subplots.AxesSubplot object at 0x000001DB1C8F9DA0>],\n",
       "       [<matplotlib.axes._subplots.AxesSubplot object at 0x000001DB1C928390>,\n",
       "        <matplotlib.axes._subplots.AxesSubplot object at 0x000001DB1C94F860>,\n",
       "        <matplotlib.axes._subplots.AxesSubplot object at 0x000001DB1EA89DD8>,\n",
       "        <matplotlib.axes._subplots.AxesSubplot object at 0x000001DB1EABA3C8>],\n",
       "       [<matplotlib.axes._subplots.AxesSubplot object at 0x000001DB1EABA400>,\n",
       "        <matplotlib.axes._subplots.AxesSubplot object at 0x000001DB1EB08E80>,\n",
       "        <matplotlib.axes._subplots.AxesSubplot object at 0x000001DB1EB38438>,\n",
       "        <matplotlib.axes._subplots.AxesSubplot object at 0x000001DB1EB5F9B0>],\n",
       "       [<matplotlib.axes._subplots.AxesSubplot object at 0x000001DB1EB86F28>,\n",
       "        <matplotlib.axes._subplots.AxesSubplot object at 0x000001DB1EBB84E0>,\n",
       "        <matplotlib.axes._subplots.AxesSubplot object at 0x000001DB1EBDEA58>,\n",
       "        <matplotlib.axes._subplots.AxesSubplot object at 0x000001DB1EC07FD0>],\n",
       "       [<matplotlib.axes._subplots.AxesSubplot object at 0x000001DB1EC37588>,\n",
       "        <matplotlib.axes._subplots.AxesSubplot object at 0x000001DB1EC5EB00>,\n",
       "        <matplotlib.axes._subplots.AxesSubplot object at 0x000001DB1EC900B8>,\n",
       "        <matplotlib.axes._subplots.AxesSubplot object at 0x000001DB1ECB6630>]],\n",
       "      dtype=object)"
      ]
     },
     "execution_count": 3,
     "metadata": {},
     "output_type": "execute_result"
    },
    {
     "data": {
      "image/png": "[encoded data removed]",
      "text/plain": [
       "<Figure size 432x288 with 20 Axes>"
      ]
     },
     "metadata": {
      "needs_background": "light"
     },
     "output_type": "display_data"
    }
   ],
   "source": [
    "'''In order to use sklearn methods, everything must be in floats and we cannot have missing   values.\n",
    "    So we change dtypes and drop samples where essential data is not available'''\n",
    "offices['# of Buildings']=offices['# of Buildings'].astype(float)\n",
    "offices=offices.dropna(subset=['ENERGY STAR Score','Weather Normalized Site EUI (kBtu/sq ft)','Total GHG Emissions (Metric Tons CO2e)'])\n",
    "print(offices.count())\n",
    "\n",
    "\n",
    "\n",
    "\n",
    "offices.hist()"
   ]
  },
  {
   "cell_type": "code",
   "execution_count": 4,
   "metadata": {},
   "outputs": [
    {
     "name": "stdout",
     "output_type": "stream",
     "text": [
      "['Data Year', 'ID', 'Property Name', 'Address', 'ZIP Code', 'Community Area', 'Primary Property Type', 'Gross Floor Area - Buildings (sq ft)', 'Year Built', '# of Buildings', 'ENERGY STAR Score', 'Electricity Use (kBtu)', 'Natural Gas Use (kBtu)', 'District Steam Use (kBtu)', 'District Chilled Water Use (kBtu)', 'All Other Fuel Use (kBtu)', 'Site EUI (kBtu/sq ft)', 'Source EUI (kBtu/sq ft)', 'Weather Normalized Site EUI (kBtu/sq ft)', 'Weather Normalized Source EUI (kBtu/sq ft)', 'Total GHG Emissions (Metric Tons CO2e)', 'GHG Intensity (kg CO2e/sq ft)', 'Latitude', 'Longitude', 'Location']\n"
     ]
    }
   ],
   "source": [
    "var=offices.columns.tolist()\n",
    "print((var))"
   ]
  },
  {
   "cell_type": "code",
   "execution_count": 5,
   "metadata": {},
   "outputs": [
    {
     "name": "stdout",
     "output_type": "stream",
     "text": [
      "Data Year                                     732\n",
      "ID                                            732\n",
      "Property Name                                 732\n",
      "Address                                       732\n",
      "ZIP Code                                      732\n",
      "Community Area                                732\n",
      "Primary Property Type                         732\n",
      "Gross Floor Area - Buildings (sq ft)          732\n",
      "Year Built                                    732\n",
      "# of Buildings                                732\n",
      "ENERGY STAR Score                             732\n",
      "Electricity Use (kBtu)                        732\n",
      "Natural Gas Use (kBtu)                        732\n",
      "District Steam Use (kBtu)                     732\n",
      "District Chilled Water Use (kBtu)             732\n",
      "All Other Fuel Use (kBtu)                     732\n",
      "Site EUI (kBtu/sq ft)                         732\n",
      "Source EUI (kBtu/sq ft)                       732\n",
      "Weather Normalized Site EUI (kBtu/sq ft)      732\n",
      "Weather Normalized Source EUI (kBtu/sq ft)    732\n",
      "Total GHG Emissions (Metric Tons CO2e)        732\n",
      "GHG Intensity (kg CO2e/sq ft)                 732\n",
      "Latitude                                      732\n",
      "Longitude                                     732\n",
      "Location                                      732\n",
      "dtype: int64\n"
     ]
    }
   ],
   "source": [
    "'''We assume that if there was no data reported for a particular fuel source, none was used. So we replace nans with zeroes\n",
    "'''\n",
    "offices[['Electricity Use (kBtu)', 'Natural Gas Use (kBtu)', 'District Steam Use (kBtu)', 'District Chilled Water Use (kBtu)', 'All Other Fuel Use (kBtu)']]=offices[['Electricity Use (kBtu)', 'Natural Gas Use (kBtu)', 'District Steam Use (kBtu)', 'District Chilled Water Use (kBtu)', 'All Other Fuel Use (kBtu)']].fillna(0)\n",
    "\n",
    "print(offices.count())\n",
    "\n",
    "\n",
    "\n"
   ]
  },
  {
   "cell_type": "code",
   "execution_count": 6,
   "metadata": {},
   "outputs": [],
   "source": [
    "'''We change Year Built to Age, as Age is a more informative number'''\n",
    "py=2019\n",
    "offices['Year Built']=py-offices['Year Built']\n",
    "offices=offices.rename({'Year Built':'Age'},axis=1)"
   ]
  },
  {
   "cell_type": "code",
   "execution_count": 7,
   "metadata": {},
   "outputs": [],
   "source": [
    "#assess  Mean Absolute error\n",
    "def mae(pred,test):\n",
    "    return np.sum(np.abs(pred-test))/len(test)"
   ]
  },
  {
   "cell_type": "code",
   "execution_count": 8,
   "metadata": {},
   "outputs": [],
   "source": [
    "def rmse(pred,test):\n",
    "    return np.sqrt(np.sum((pred-test)**2)/len(test))"
   ]
  },
  {
   "cell_type": "code",
   "execution_count": 9,
   "metadata": {},
   "outputs": [],
   "source": [
    "'''We split our table into features and targets, and drop columns that do not provide information relevant to the energy\n",
    "    star score. We also randomize our samples'''\n",
    "target=offices['ENERGY STAR Score'].values\n",
    "features=offices[['Gross Floor Area - Buildings (sq ft)', 'Age', '# of Buildings', 'Electricity Use (kBtu)', 'Natural Gas Use (kBtu)', 'District Steam Use (kBtu)', 'District Chilled Water Use (kBtu)', 'All Other Fuel Use (kBtu)',  'Weather Normalized Site EUI (kBtu/sq ft)', 'Weather Normalized Source EUI (kBtu/sq ft)', 'Total GHG Emissions (Metric Tons CO2e)', 'GHG Intensity (kg CO2e/sq ft)']].values\n",
    "ind=np.random.shuffle(np.arange(0,target.shape[0]))\n",
    "\n",
    "features[:,:]=features[ind,:]\n",
    "target[:]=target[ind]"
   ]
  },
  {
   "cell_type": "code",
   "execution_count": null,
   "metadata": {},
   "outputs": [],
   "source": []
  },
  {
   "cell_type": "code",
   "execution_count": 21,
   "metadata": {},
   "outputs": [],
   "source": [
    "#We implement the k-fold cross-validation method from the course Data-Driven Astronomy, so that we can check each fold \n",
    "#individually for underfitting/overfitting\n",
    "def cross_validate_model(model, features, targets, k):\n",
    "  kf = sk.KFold(n_splits=k, shuffle=True)\n",
    "\n",
    "  # declare an array for predicted redshifts from each iteration\n",
    "  all_predictions = np.zeros_like(targets)\n",
    "\n",
    "  for train_indices, test_indices in kf.split(features):\n",
    "    \n",
    "    # split the data into training and testing\n",
    "    train_f,train_t=features[train_indices],targets[train_indices]\n",
    "    test_f,test_t=features[test_indices],targets[test_indices]\n",
    "    # fit the model for the current set\n",
    "    model.fit(train_f,train_t)    \n",
    "    # predict using the model\n",
    "    predictions=model.predict(test_f)    \n",
    "    predtr=model.predict(train_f)    \n",
    "    \n",
    "    #print('test err ',mae(predictions,test_t),'train err ',mae(predtr,train_t))\n",
    "    # put the predicted values in the all_predictions array defined above\n",
    "   \n",
    "\n",
    "    all_predictions[test_indices] = predictions\n",
    "\n",
    "  # return the predictions\n",
    "  return all_predictions    \n"
   ]
  },
  {
   "cell_type": "code",
   "execution_count": 22,
   "metadata": {},
   "outputs": [],
   "source": [
    "def testTreeDepth(depth,features,target):    \n",
    "    tfrac=.5\n",
    "    trainx=int(features.shape[0]*tfrac)\n",
    "    trainf=features[trainx:,:]\n",
    "    testf=features[:trainx,:]\n",
    "    traint=target[trainx:]\n",
    "    testt=target[:trainx]\n",
    "\n",
    "    dtr=DecisionTreeRegressor(max_depth=depth)\n",
    "    dtr.fit(trainf,traint)\n",
    "    \n",
    "\n",
    "    dot_data = export_graphviz(dtr, out_file=None,feature_names=['Gross Floor Area - Buildings (sq ft)', 'Age', '# of Buildings', 'Electricity Use (kBtu)', 'Natural Gas Use (kBtu)', 'District Steam Use (kBtu)', 'District Chilled Water Use (kBtu)', 'All Other Fuel Use (kBtu)',  'Weather Normalized Site EUI (kBtu/sq ft)', 'Weather Normalized Source EUI (kBtu/sq ft)', 'Total GHG Emissions (Metric Tons CO2e)', 'GHG Intensity (kg CO2e/sq ft)'])\n",
    "    graph = pydotplus.graph_from_dot_data(dot_data)\n",
    "    graph.write_pdf(\"decision_tree.pdf\")\n",
    "\n",
    "\n",
    "    predt=dtr.predict(testf)\n",
    "    predtr=dtr.predict(trainf)\n",
    "    print('train err',mae(predtr,traint),rmse(predtr,traint))\n",
    "\n",
    "    print('test err',mae(predt,testt),rmse(predt,testt))\n",
    "    return mae(predtr,traint),mae(predt,testt)"
   ]
  },
  {
   "cell_type": "code",
   "execution_count": 23,
   "metadata": {},
   "outputs": [
    {
     "name": "stdout",
     "output_type": "stream",
     "text": [
      "train err 3.847326535252894 5.4344489907419895\n",
      "test err 5.768742922474802 8.119731055793313\n"
     ]
    }
   ],
   "source": [
    "'''As a baseline, split into two equally sized sets, and perform a decision tree regression with\n",
    "    a maximum depth of five layers'''\n",
    "t=testTreeDepth(5,features,target)"
   ]
  },
  {
   "cell_type": "code",
   "execution_count": 24,
   "metadata": {},
   "outputs": [
    {
     "data": {
      "text/plain": [
       "'Appears to overfit'"
      ]
     },
     "execution_count": 24,
     "metadata": {},
     "output_type": "execute_result"
    }
   ],
   "source": [
    "'''Appears to overfit'''"
   ]
  },
  {
   "cell_type": "code",
   "execution_count": 25,
   "metadata": {},
   "outputs": [
    {
     "name": "stdout",
     "output_type": "stream",
     "text": [
      "depth 1\n",
      "train err 10.566975368801165 14.366930455795597\n",
      "test err 10.020148777159976 13.097208055232457\n",
      "depth 2\n",
      "train err 8.355039806085273 10.888047231314882\n",
      "test err 8.103126368694507 10.910112098157697\n",
      "depth 3\n",
      "train err 6.066065271091155 8.242098447196689\n",
      "test err 6.627870220379598 9.612696484023635\n",
      "depth 4\n",
      "train err 4.987073262820611 6.8986239670101215\n",
      "test err 6.185996464159435 9.143640019011768\n",
      "depth 5\n",
      "train err 3.847326535252894 5.4344489907419895\n",
      "test err 5.734589917010322 8.097168633944722\n",
      "depth 6\n",
      "train err 3.0891148268461865 4.47592727997735\n",
      "test err 5.819267378103091 8.614674903364563\n"
     ]
    },
    {
     "data": {
      "image/png": "[encoded data removed]",
      "text/plain": [
       "<Figure size 432x288 with 1 Axes>"
      ]
     },
     "metadata": {
      "needs_background": "light"
     },
     "output_type": "display_data"
    }
   ],
   "source": [
    "'''What happens if we vary the tree depth?'''\n",
    "d=np.arange(1,7)\n",
    "k=np.arange(3,20)\n",
    "train=np.zeros(len(d))\n",
    "test=np.zeros(len(d))\n",
    "\n",
    "for i in d:\n",
    "    print('depth',i)\n",
    "    t=testTreeDepth(i,features,target)\n",
    "    train[i-1]=t[0]\n",
    "    test[i-1]=t[1]\n",
    "#check if overfitting. Plot train error v test\n",
    "a=plt.plot(d,train,label='train')\n",
    "plt.plot(d,test,label='test')\n",
    "\n",
    "\n",
    "\n",
    "\n",
    "\n",
    "plt.legend()\n",
    "plt.show()"
   ]
  },
  {
   "cell_type": "code",
   "execution_count": 26,
   "metadata": {},
   "outputs": [
    {
     "data": {
      "text/plain": [
       "'Wow, starts overfitting very quickly! We want comparable errors, so maybe depth=3 is best'"
      ]
     },
     "execution_count": 26,
     "metadata": {},
     "output_type": "execute_result"
    }
   ],
   "source": [
    "'''Wow, starts overfitting very quickly! We want comparable errors, so maybe depth=3 is best'''"
   ]
  },
  {
   "cell_type": "code",
   "execution_count": null,
   "metadata": {},
   "outputs": [],
   "source": []
  },
  {
   "cell_type": "code",
   "execution_count": 27,
   "metadata": {},
   "outputs": [],
   "source": [
    "'''see if crossvalidation helps. Unfortunately, can no longer check overall overfitting'''\n",
    "def testTreeDepth2(depth,features,target,kk):    \n",
    "\n",
    "\n",
    "    dtr=DecisionTreeRegressor(max_depth=depth)\n",
    "    pred=cross_validate_model(dtr,features,target,kk)\n",
    "    \n",
    "    print('test err',mae(pred,target),rmse(pred,target))\n",
    "    return mae(pred,target)"
   ]
  },
  {
   "cell_type": "code",
   "execution_count": 28,
   "metadata": {},
   "outputs": [
    {
     "name": "stdout",
     "output_type": "stream",
     "text": [
      "test err 7.370688687944727 10.365288722039866\n",
      "test err 6.9460722439003115 9.784655248791363\n",
      "test err 7.295044865832025 10.08405577039149\n",
      "test err 7.177330225914851 10.0230007800263\n",
      "test err 6.884294561019148 9.34444872213584\n",
      "test err 7.323685675854789 10.201932526327663\n",
      "test err 7.056754403379033 9.684845805004837\n",
      "test err 7.181592785477421 9.991289852000438\n",
      "test err 7.314071077595428 10.096212061588416\n",
      "test err 7.000800073180717 9.654872389290555\n",
      "test err 7.236586813676851 10.006886977966312\n",
      "test err 7.032105882242866 9.76280899386644\n",
      "test err 6.889415880427185 9.63949420165002\n",
      "test err 7.000972455067545 9.81701797542441\n",
      "test err 7.10369244819864 9.94584431726555\n",
      "test err 7.080769057281526 9.856123811452386\n",
      "test err 7.024085523099402 9.791350572371547\n",
      "test err 7.014614956020452 9.887663526143413\n",
      "test err 6.818569848966264 9.463394457251205\n",
      "test err 7.07343465982178 10.1206339256726\n",
      "test err 6.945424678351069 9.706492006340493\n",
      "test err 6.95875128493621 9.50763510037332\n",
      "test err 6.934967088795455 9.74448745968124\n",
      "test err 7.046409189128868 9.89435214421585\n",
      "test err 6.984090208267118 9.78424662930779\n",
      "test err 7.056222517266369 10.057597912346534\n",
      "test err 7.113462203197446 9.95150750630142\n",
      "test err 6.937762563252575 9.82757912758176\n",
      "test err 7.088024819855344 10.049995327028915\n",
      "test err 6.982851414654028 9.67594488293739\n",
      "test err 7.02703401658618 9.808727116144873\n",
      "test err 6.933684295941772 9.722220472444073\n",
      "test err 7.02640216122559 9.617458424060034\n",
      "test err 7.078233995900379 10.18970502366183\n"
     ]
    },
    {
     "data": {
      "image/png": "[encoded data removed]",
      "text/plain": [
       "<Figure size 432x288 with 1 Axes>"
      ]
     },
     "metadata": {
      "needs_background": "light"
     },
     "output_type": "display_data"
    }
   ],
   "source": [
    "errs=np.zeros(len(k))\n",
    "for kk in k:\n",
    "    testTreeDepth2(3,features,target,kk)\n",
    "    errs[kk-k[0]]=testTreeDepth2(3,features,target,kk)\n",
    "   \n",
    "plt.plot(k,errs)\n",
    "plt.show()\n"
   ]
  },
  {
   "cell_type": "code",
   "execution_count": null,
   "metadata": {},
   "outputs": [],
   "source": [
    "'''We get a different plot every time, but errors consistently between 6.9 and 7.4. Cross validation doesn't really help"
   ]
  },
  {
   "cell_type": "code",
   "execution_count": null,
   "metadata": {},
   "outputs": [],
   "source": [
    "for i in d:\n",
    "    testTreeDepth2(i,features,target,6)\n",
    "#ch\n"
   ]
  },
  {
   "cell_type": "code",
   "execution_count": 32,
   "metadata": {},
   "outputs": [
    {
     "name": "stdout",
     "output_type": "stream",
     "text": [
      "6.185402320224465\n"
     ]
    }
   ],
   "source": [
    "'''Is random forest better?'''\n",
    "rfr=RandomForestRegressor(n_estimators=1000,max_depth=3)\n",
    "pred=cross_validate_model(rfr,features,target,5)\n",
    "print(mae(pred,target))"
   ]
  },
  {
   "cell_type": "code",
   "execution_count": null,
   "metadata": {},
   "outputs": [],
   "source": [
    "'''A little over 6. Better, a little. Considering the energy score is between 0 and 100, like 6% error'''"
   ]
  },
  {
   "cell_type": "code",
   "execution_count": null,
   "metadata": {},
   "outputs": [],
   "source": []
  }
 ],
 "metadata": {
  "kernelspec": {
   "display_name": "Python 3",
   "language": "python",
   "name": "python3"
  },
  "language_info": {
   "codemirror_mode": {
    "name": "ipython",
    "version": 3
   },
   "file_extension": ".py",
   "mimetype": "text/x-python",
   "name": "python",
   "nbconvert_exporter": "python",
   "pygments_lexer": "ipython3",
   "version": "3.7.1"
  }
 },
 "nbformat": 4,
 "nbformat_minor": 2
}
